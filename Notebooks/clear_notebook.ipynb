{
 "cells": [
  {
   "cell_type": "code",
   "execution_count": 1,
   "metadata": {},
   "outputs": [
    {
     "name": "stderr",
     "output_type": "stream",
     "text": [
      "/home/oskar/nlll/NLP_Learning/.venv/lib64/python3.12/site-packages/tqdm/auto.py:21: TqdmWarning: IProgress not found. Please update jupyter and ipywidgets. See https://ipywidgets.readthedocs.io/en/stable/user_install.html\n",
      "  from .autonotebook import tqdm as notebook_tqdm\n"
     ]
    },
    {
     "data": {
      "text/plain": [
       "<torch._C.Generator at 0x7f7ea3e56b70>"
      ]
     },
     "execution_count": 1,
     "metadata": {},
     "output_type": "execute_result"
    }
   ],
   "source": [
    "import torch\n",
    "import torch.nn as nn\n",
    "import torch.optim as optim\n",
    "import pandas as pd\n",
    "\n",
    "import sys\n",
    "sys.path.append('/home/oskar/nlll/NLP_Learning/NLP_Learning')  # Adjust the path according to your environment\n",
    "\n",
    "from module import *\n",
    "#from ..NLP_Learning.module import MultiheadAttention\n",
    "\n",
    "torch.manual_seed(123)"
   ]
  },
  {
   "cell_type": "code",
   "execution_count": 2,
   "metadata": {},
   "outputs": [],
   "source": [
    "GPT_config_124M = {\n",
    "    'vocab_size': 50257,\n",
    "    'context_length': 1024,\n",
    "    'num_head': 12, \n",
    "    'emb_dim': 768,\n",
    "    'n_layers': 12, \n",
    "    'drop_rate': 0.1,\n",
    "    'qkv_bias': False\n",
    "}"
   ]
  },
  {
   "cell_type": "code",
   "execution_count": 3,
   "metadata": {},
   "outputs": [
    {
     "data": {
      "text/plain": [
       "torch.Size([2, 6, 3])"
      ]
     },
     "execution_count": 3,
     "metadata": {},
     "output_type": "execute_result"
    }
   ],
   "source": [
    "inputs = torch.tensor(\n",
    "[[0.43, 0.15, 0.89], \n",
    "[0.55, 0.87, 0.66], \n",
    "[0.57, 0.85, 0.64], \n",
    "[0.22, 0.58, 0.33],\n",
    "[0.77, 0.25, 0.10], \n",
    "[0.05, 0.80, 0.55]] \n",
    ")\n",
    "\n",
    "batch = torch.stack((inputs, inputs), dim=0)\n",
    "batch.shape"
   ]
  },
  {
   "cell_type": "code",
   "execution_count": 4,
   "metadata": {},
   "outputs": [
    {
     "data": {
      "text/plain": [
       "tensor([[[ 0.7732, -0.2205],\n",
       "         [ 0.7652, -0.1832],\n",
       "         [ 0.7639, -0.1720],\n",
       "         [ 0.7435, -0.2019],\n",
       "         [ 0.7517, -0.2030],\n",
       "         [ 0.7341, -0.2182]],\n",
       "\n",
       "        [[ 0.7732, -0.2205],\n",
       "         [ 0.7652, -0.1832],\n",
       "         [ 0.7639, -0.1720],\n",
       "         [ 0.7435, -0.2019],\n",
       "         [ 0.7517, -0.2030],\n",
       "         [ 0.7341, -0.2182]]], grad_fn=<ViewBackward0>)"
      ]
     },
     "execution_count": 4,
     "metadata": {},
     "output_type": "execute_result"
    }
   ],
   "source": [
    "batch_size, context_lengt, d_in = batch.shape\n",
    "\n",
    "model = MultiheadAttention(d_in = 3, d_out=2, num_heads=2, context_lengt = context_lengt)\n",
    "model(batch)"
   ]
  },
  {
   "cell_type": "code",
   "execution_count": 5,
   "metadata": {},
   "outputs": [
    {
     "name": "stdout",
     "output_type": "stream",
     "text": [
      "tensor([[6109, 3626, 6100,  345],\n",
      "        [6109, 1110, 6622,  257]])\n"
     ]
    }
   ],
   "source": [
    "import tiktoken\n",
    "\n",
    "encoding = tiktoken.encoding_for_model('gpt2')\n",
    "\n",
    "text1 = \"Every effort moves you\"\n",
    "text2 = \"Every day holds a\"\n",
    "\n",
    "batch = []\n",
    "\n",
    "for _ in [text1, text2]:\n",
    "    batch.append(torch.tensor(encoding.encode(_)))\n",
    "\n",
    "batch_sample = torch.stack(batch, dim=0)\n",
    "\n",
    "print(batch_sample)"
   ]
  },
  {
   "cell_type": "code",
   "execution_count": 6,
   "metadata": {},
   "outputs": [
    {
     "data": {
      "text/plain": [
       "tensor([[[-1.0047, -0.0617, -0.4195,  ..., -1.0968, -0.2360, -0.7827],\n",
       "         [-0.2306, -0.4178,  0.2646,  ..., -0.6551,  0.9364,  0.8288],\n",
       "         [ 0.4229,  1.2198, -0.2838,  ...,  2.3022,  0.0477, -0.0578],\n",
       "         [ 0.3600,  1.5658,  0.0222,  ...,  0.1722, -1.1210, -0.5402]],\n",
       "\n",
       "        [[-1.4045, -0.0061, -0.2265,  ..., -1.4541, -0.3286, -1.3925],\n",
       "         [-0.2185, -0.9411,  0.2056,  ..., -0.2523, -0.2080,  0.1178],\n",
       "         [ 0.1092,  0.8500, -0.3638,  ..., -0.0701, -0.2580,  0.6865],\n",
       "         [ 0.2028,  0.0123,  0.3517,  ...,  0.7289, -0.8055, -0.9530]]],\n",
       "       grad_fn=<UnsafeViewBackward0>)"
      ]
     },
     "execution_count": 6,
     "metadata": {},
     "output_type": "execute_result"
    }
   ],
   "source": [
    "model = DummyGPTmodule()\n",
    "model(batch_sample)"
   ]
  },
  {
   "cell_type": "code",
   "execution_count": 10,
   "metadata": {},
   "outputs": [
    {
     "name": "stdout",
     "output_type": "stream",
     "text": [
      "tensor([[0.2260, 0.3470, 0.0000, 0.2216, 0.0000, 0.0000],\n",
      "        [0.2133, 0.2394, 0.0000, 0.5198, 0.3297, 0.0000]],\n",
      "       grad_fn=<ReluBackward0>)\n"
     ]
    }
   ],
   "source": [
    "torch.manual_seed(123)\n",
    "\n",
    "batch_example = torch.randn(2, 5)\n",
    "\n",
    "layer = nn.Sequential(\n",
    "    nn.Linear(5, 6),\n",
    "    nn.ReLU()\n",
    ")\n",
    "\n",
    "out = layer(batch_example)\n",
    "print(out)"
   ]
  },
  {
   "cell_type": "code",
   "execution_count": 16,
   "metadata": {},
   "outputs": [
    {
     "name": "stdout",
     "output_type": "stream",
     "text": [
      "Mean: tensor([[0.1324],\n",
      "        [0.2170]], grad_fn=<MeanBackward1>),\n",
      "Var: tensor([[0.0231],\n",
      "        [0.0398]], grad_fn=<VarBackward0>)\n"
     ]
    }
   ],
   "source": [
    "mean = out.mean(dim=-1, keepdim=True)\n",
    "var = out.var(dim=-1, keepdim=True)\n",
    "print(f'Mean: {mean},\\nVar: {var}')"
   ]
  },
  {
   "cell_type": "code",
   "execution_count": 18,
   "metadata": {},
   "outputs": [
    {
     "name": "stdout",
     "output_type": "stream",
     "text": [
      "tensor([[ 0.6159,  1.4126, -0.8719,  0.5872, -0.8719, -0.8719],\n",
      "        [-0.0189,  0.1121, -1.0876,  1.5173,  0.5647, -1.0876]],\n",
      "       grad_fn=<DivBackward0>)\n",
      "tensor([[9.9341e-09],\n",
      "        [1.9868e-08]], grad_fn=<MeanBackward1>)\n",
      "tensor([[1.0000],\n",
      "        [1.0000]], grad_fn=<VarBackward0>)\n"
     ]
    }
   ],
   "source": [
    "out_norm = (out - mean) / torch.sqrt(var)\n",
    "print(out_norm)\n",
    "print(out_norm.mean(dim=-1, keepdim=True))\n",
    "print(out_norm.var(dim=-1, keepdim=True))"
   ]
  },
  {
   "cell_type": "code",
   "execution_count": 26,
   "metadata": {},
   "outputs": [],
   "source": [
    "class LayerNorm(nn.Module):\n",
    "    def __init__(self, emb_dim, eps=1e-5):\n",
    "        super().__init__()\n",
    "        self.eps = 1e-5\n",
    "        self.emb_dim = emb_dim\n",
    "        self.scale = nn.Parameter(torch.ones(self.emb_dim))\n",
    "        self.bias = nn.Parameter(torch.zeros(self.emb_dim))\n",
    "\n",
    "    def forward(self, x):\n",
    "        mean = x.mean(dim=-1, keepdim=True)\n",
    "        var = x.var(dim=-1, keepdim=True, unbiased=False)\n",
    "        norm_x = (x - mean) / torch.sqrt(var + self.eps)\n",
    "        return self.scale * norm_x + self.bias\n",
    "\n",
    "\n",
    "ln = LayerNorm(emb_dim=5)\n",
    "\n",
    "out_ln = ln(batch_example)\n",
    "print(out_ln)\n",
    "\n",
    "print(out_ln.mean(dim=-1, keepdim=True))\n",
    "print(out_ln.var(dim=-1, keepdim=True))"
   ]
  },
  {
   "cell_type": "code",
   "execution_count": 29,
   "metadata": {},
   "outputs": [
    {
     "name": "stdout",
     "output_type": "stream",
     "text": [
      "tensor([[ 0.5528,  1.0693, -0.0223,  0.2656, -1.8654],\n",
      "        [ 0.9087, -1.3767, -0.9564,  1.1304,  0.2940]], grad_fn=<AddBackward0>)\n",
      "tensor([[-2.9802e-08],\n",
      "        [ 0.0000e+00]], grad_fn=<MeanBackward1>)\n",
      "tensor([[1.2499],\n",
      "        [1.2500]], grad_fn=<VarBackward0>)\n"
     ]
    }
   ],
   "source": [
    "ln = LayerNorm(emb_dim=5)\n",
    "\n",
    "out_ln = ln(batch_example)\n",
    "print(out_ln)\n",
    "\n",
    "print(out_ln.mean(dim=-1, keepdim=True))\n",
    "print(out_ln.var(dim=-1, keepdim=True))"
   ]
  },
  {
   "cell_type": "code",
   "execution_count": 39,
   "metadata": {},
   "outputs": [],
   "source": [
    "class GELU(nn.Module):\n",
    "    def __init__(self):\n",
    "        super().__init__()\n",
    "\n",
    "    def forward(self, x):\n",
    "        return 0.5 * x * (1 + torch.tanh(torch.\\\n",
    "        sqrt(torch.tensor(2.0 / torch.pi) * (x + 0.044715 * torch.pow(x, 3)))))"
   ]
  },
  {
   "cell_type": "code",
   "execution_count": 41,
   "metadata": {},
   "outputs": [],
   "source": [
    "class GELU(nn.Module):\n",
    "    def __init__(self):\n",
    "        super().__init__()\n",
    "    def forward(self, x):\n",
    "        return 0.5 * x * (1 + torch.tanh(torch.sqrt(torch.tensor(2.0 / torch.pi)) *\n",
    "            (x + 0.044715 * torch.pow(x, 3))\n",
    "            ))"
   ]
  },
  {
   "cell_type": "code",
   "execution_count": 43,
   "metadata": {},
   "outputs": [
    {
     "data": {
      "image/png": "[encoded data removed]",
      "text/plain": [
       "<Figure size 1200x600 with 2 Axes>"
      ]
     },
     "metadata": {},
     "output_type": "display_data"
    }
   ],
   "source": [
    "import matplotlib.pyplot as plt\n",
    "\n",
    "gelu, relu = GELU(), nn.ReLU()\n",
    "\n",
    "x = torch.linspace(-3,3,100)\n",
    "\n",
    "y_gelu, y_relu = gelu(x), relu(x)\n",
    "plt.figure(figsize=(12, 6))\n",
    "\n",
    "for i, (y, label) in enumerate(zip([y_gelu, y_relu], ['GELU', 'ReLU'])):\n",
    "    plt.subplot(1, 2, i+1)\n",
    "    plt.plot(x,y)\n",
    "    plt.title(f'{label} activation function')\n",
    "    plt.xlabel('x')\n",
    "    plt.ylabel('y')\n",
    "    plt.grid(True)\n",
    "\n",
    "plt.tight_layout()\n",
    "plt.show()"
   ]
  },
  {
   "cell_type": "code",
   "execution_count": 66,
   "metadata": {},
   "outputs": [],
   "source": [
    "class ExampleDeepNeuralNetwork(nn.Module):\n",
    "    def __init__(self, layer_size, use_shortcut=False):\n",
    "        super().__init__()\n",
    "        self.use_shortcut = use_shortcut\n",
    "\n",
    "        self.layers = nn.ModuleList([\n",
    "            nn.Sequential(nn.Linear(layer_size[0], layer_size[1]), GELU()),\n",
    "            nn.Sequential(nn.Linear(layer_size[1], layer_size[2]), GELU()),\n",
    "            nn.Sequential(nn.Linear(layer_size[2], layer_size[3]), GELU()),\n",
    "            nn.Sequential(nn.Linear(layer_size[3], layer_size[4]), GELU()),\n",
    "            nn.Sequential(nn.Linear(layer_size[4], layer_size[5]), GELU())\n",
    "        ]\n",
    "        )\n",
    "\n",
    "    def forward(self, x):\n",
    "        #compute\n",
    "        for layer in self.layers:\n",
    "            layer_out = layer(x)\n",
    "\n",
    "            if self.use_shortcut and x.shape == layer_out.shape:\n",
    "                x = x + layer_out\n",
    "            else:\n",
    "                x = layer_out\n",
    "        return x\n",
    "        "
   ]
  },
  {
   "cell_type": "code",
   "execution_count": 67,
   "metadata": {},
   "outputs": [],
   "source": [
    "torch.set_printoptions(sci_mode=False)"
   ]
  },
  {
   "cell_type": "code",
   "execution_count": 68,
   "metadata": {},
   "outputs": [],
   "source": [
    "layer_size = [3,3,3,3,3,3,1]\n",
    "model = ExampleDeepNeuralNetwork(layer_size)\n",
    "sample_input = torch.tensor([[1., 0., -1.]])\n",
    "\n",
    "def print_gradient(model, x):\n",
    "    output = model(x)\n",
    "    target = torch.randn_like(output)\n",
    "\n",
    "    loss = torch.nn.MSELoss()(output, target)\n",
    "\n",
    "    loss.backward()\n",
    "\n",
    "    for name, param in model.named_parameters():\n",
    "        if 'weight' in name:\n",
    "            print(f'{name} has a param {param.grad.abs().mean().item()}')"
   ]
  },
  {
   "cell_type": "code",
   "execution_count": 69,
   "metadata": {},
   "outputs": [
    {
     "name": "stdout",
     "output_type": "stream",
     "text": [
      "layers.0.0.weight has a param 0.0012179916957393289\n",
      "layers.1.0.weight has a param 0.0030874121002852917\n",
      "layers.2.0.weight has a param 0.0020798740442842245\n",
      "layers.3.0.weight has a param 0.011124690063297749\n",
      "layers.4.0.weight has a param 0.021914280951023102\n"
     ]
    }
   ],
   "source": [
    "print_gradient(model, samle_input)"
   ]
  },
  {
   "cell_type": "code",
   "execution_count": 70,
   "metadata": {},
   "outputs": [
    {
     "name": "stdout",
     "output_type": "stream",
     "text": [
      "layers.0.0.weight has a param 0.03952733799815178\n",
      "layers.1.0.weight has a param 0.052864931523799896\n",
      "layers.2.0.weight has a param 0.09154993295669556\n",
      "layers.3.0.weight has a param 0.07208192348480225\n",
      "layers.4.0.weight has a param 0.5970112085342407\n"
     ]
    }
   ],
   "source": [
    "layer_size = [3, 3, 3, 3, 3, 1]\n",
    "model = ExampleDeepNeuralNetwork(layer_size, use_shortcut=True)\n",
    "\n",
    "print_gradient(model, samle_input)"
   ]
  }
 ],
 "metadata": {
  "kernelspec": {
   "display_name": ".venv",
   "language": "python",
   "name": "python3"
  },
  "language_info": {
   "codemirror_mode": {
    "name": "ipython",
    "version": 3
   },
   "file_extension": ".py",
   "mimetype": "text/x-python",
   "name": "python",
   "nbconvert_exporter": "python",
   "pygments_lexer": "ipython3",
   "version": "3.12.3"
  }
 },
 "nbformat": 4,
 "nbformat_minor": 2
}
